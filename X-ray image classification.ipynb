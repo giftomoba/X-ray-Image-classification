{
  "nbformat": 4,
  "nbformat_minor": 0,
  "metadata": {
    "colab": {
      "provenance": [],
      "gpuType": "T4"
    },
    "kernelspec": {
      "name": "python3",
      "display_name": "Python 3"
    },
    "language_info": {
      "name": "python"
    },
    "accelerator": "GPU"
  },
  "cells": [
    {
      "cell_type": "code",
      "execution_count": 15,
      "metadata": {
        "id": "6hAoiYdOO2cv"
      },
      "outputs": [],
      "source": [
        "import numpy as np\n",
        "import pandas as pd\n",
        "import os\n",
        "import seaborn as sns\n",
        "import warnings\n",
        "warnings.filterwarnings('ignore')\n",
        "import matplotlib.pyplot as plt\n",
        "from sklearn.preprocessing import LabelEncoder\n",
        "from sklearn.metrics import classification_report,ConfusionMatrixDisplay\n",
        "from sklearn.model_selection import train_test_split\n",
        "from imblearn.over_sampling import SMOTE\n",
        "from tensorflow.keras.utils import to_categorical\n",
        "from tensorflow.keras.models import Sequential, save_model, load_model\n",
        "from tensorflow.keras.layers import Conv2D, MaxPooling2D, Flatten, Dense, BatchNormalization, Dropout\n",
        "from tensorflow.keras.callbacks import ModelCheckpoint, EarlyStopping"
      ]
    },
    {
      "cell_type": "markdown",
      "source": [
        "## Reading Files in:"
      ],
      "metadata": {
        "id": "KTEnxumtQFI-"
      }
    },
    {
      "cell_type": "code",
      "source": [
        "image_data = np.load('/content/drive/MyDrive/MLOps Class/CovidImages.npy')\n",
        "label_data = pd.read_csv('/content/drive/MyDrive/MLOps Class/CovidLabels.csv')"
      ],
      "metadata": {
        "id": "8qKR2a3oQBTm"
      },
      "execution_count": 2,
      "outputs": []
    },
    {
      "cell_type": "markdown",
      "source": [
        "## Exploratory Data Analysis:"
      ],
      "metadata": {
        "id": "mirdgw1S3xZE"
      }
    },
    {
      "cell_type": "code",
      "source": [
        "image_data.shape"
      ],
      "metadata": {
        "colab": {
          "base_uri": "https://localhost:8080/"
        },
        "id": "N-ifYwf6QbIb",
        "outputId": "57780dad-12d8-44a0-e311-edf0a81f263a"
      },
      "execution_count": 8,
      "outputs": [
        {
          "output_type": "execute_result",
          "data": {
            "text/plain": [
              "(251, 128, 128, 3)"
            ]
          },
          "metadata": {},
          "execution_count": 8
        }
      ]
    },
    {
      "cell_type": "code",
      "source": [
        "label_data.head()"
      ],
      "metadata": {
        "colab": {
          "base_uri": "https://localhost:8080/",
          "height": 206
        },
        "id": "70lDWibTQhed",
        "outputId": "665ac6ae-11e0-47e3-e2fc-993a372a3de3"
      },
      "execution_count": 9,
      "outputs": [
        {
          "output_type": "execute_result",
          "data": {
            "text/plain": [
              "             Label\n",
              "0  Viral Pneumonia\n",
              "1  Viral Pneumonia\n",
              "2  Viral Pneumonia\n",
              "3  Viral Pneumonia\n",
              "4  Viral Pneumonia"
            ],
            "text/html": [
              "\n",
              "  <div id=\"df-0a1e330c-711d-4602-9a0a-55f36c73f12e\" class=\"colab-df-container\">\n",
              "    <div>\n",
              "<style scoped>\n",
              "    .dataframe tbody tr th:only-of-type {\n",
              "        vertical-align: middle;\n",
              "    }\n",
              "\n",
              "    .dataframe tbody tr th {\n",
              "        vertical-align: top;\n",
              "    }\n",
              "\n",
              "    .dataframe thead th {\n",
              "        text-align: right;\n",
              "    }\n",
              "</style>\n",
              "<table border=\"1\" class=\"dataframe\">\n",
              "  <thead>\n",
              "    <tr style=\"text-align: right;\">\n",
              "      <th></th>\n",
              "      <th>Label</th>\n",
              "    </tr>\n",
              "  </thead>\n",
              "  <tbody>\n",
              "    <tr>\n",
              "      <th>0</th>\n",
              "      <td>Viral Pneumonia</td>\n",
              "    </tr>\n",
              "    <tr>\n",
              "      <th>1</th>\n",
              "      <td>Viral Pneumonia</td>\n",
              "    </tr>\n",
              "    <tr>\n",
              "      <th>2</th>\n",
              "      <td>Viral Pneumonia</td>\n",
              "    </tr>\n",
              "    <tr>\n",
              "      <th>3</th>\n",
              "      <td>Viral Pneumonia</td>\n",
              "    </tr>\n",
              "    <tr>\n",
              "      <th>4</th>\n",
              "      <td>Viral Pneumonia</td>\n",
              "    </tr>\n",
              "  </tbody>\n",
              "</table>\n",
              "</div>\n",
              "    <div class=\"colab-df-buttons\">\n",
              "\n",
              "  <div class=\"colab-df-container\">\n",
              "    <button class=\"colab-df-convert\" onclick=\"convertToInteractive('df-0a1e330c-711d-4602-9a0a-55f36c73f12e')\"\n",
              "            title=\"Convert this dataframe to an interactive table.\"\n",
              "            style=\"display:none;\">\n",
              "\n",
              "  <svg xmlns=\"http://www.w3.org/2000/svg\" height=\"24px\" viewBox=\"0 -960 960 960\">\n",
              "    <path d=\"M120-120v-720h720v720H120Zm60-500h600v-160H180v160Zm220 220h160v-160H400v160Zm0 220h160v-160H400v160ZM180-400h160v-160H180v160Zm440 0h160v-160H620v160ZM180-180h160v-160H180v160Zm440 0h160v-160H620v160Z\"/>\n",
              "  </svg>\n",
              "    </button>\n",
              "\n",
              "  <style>\n",
              "    .colab-df-container {\n",
              "      display:flex;\n",
              "      gap: 12px;\n",
              "    }\n",
              "\n",
              "    .colab-df-convert {\n",
              "      background-color: #E8F0FE;\n",
              "      border: none;\n",
              "      border-radius: 50%;\n",
              "      cursor: pointer;\n",
              "      display: none;\n",
              "      fill: #1967D2;\n",
              "      height: 32px;\n",
              "      padding: 0 0 0 0;\n",
              "      width: 32px;\n",
              "    }\n",
              "\n",
              "    .colab-df-convert:hover {\n",
              "      background-color: #E2EBFA;\n",
              "      box-shadow: 0px 1px 2px rgba(60, 64, 67, 0.3), 0px 1px 3px 1px rgba(60, 64, 67, 0.15);\n",
              "      fill: #174EA6;\n",
              "    }\n",
              "\n",
              "    .colab-df-buttons div {\n",
              "      margin-bottom: 4px;\n",
              "    }\n",
              "\n",
              "    [theme=dark] .colab-df-convert {\n",
              "      background-color: #3B4455;\n",
              "      fill: #D2E3FC;\n",
              "    }\n",
              "\n",
              "    [theme=dark] .colab-df-convert:hover {\n",
              "      background-color: #434B5C;\n",
              "      box-shadow: 0px 1px 3px 1px rgba(0, 0, 0, 0.15);\n",
              "      filter: drop-shadow(0px 1px 2px rgba(0, 0, 0, 0.3));\n",
              "      fill: #FFFFFF;\n",
              "    }\n",
              "  </style>\n",
              "\n",
              "    <script>\n",
              "      const buttonEl =\n",
              "        document.querySelector('#df-0a1e330c-711d-4602-9a0a-55f36c73f12e button.colab-df-convert');\n",
              "      buttonEl.style.display =\n",
              "        google.colab.kernel.accessAllowed ? 'block' : 'none';\n",
              "\n",
              "      async function convertToInteractive(key) {\n",
              "        const element = document.querySelector('#df-0a1e330c-711d-4602-9a0a-55f36c73f12e');\n",
              "        const dataTable =\n",
              "          await google.colab.kernel.invokeFunction('convertToInteractive',\n",
              "                                                    [key], {});\n",
              "        if (!dataTable) return;\n",
              "\n",
              "        const docLinkHtml = 'Like what you see? Visit the ' +\n",
              "          '<a target=\"_blank\" href=https://colab.research.google.com/notebooks/data_table.ipynb>data table notebook</a>'\n",
              "          + ' to learn more about interactive tables.';\n",
              "        element.innerHTML = '';\n",
              "        dataTable['output_type'] = 'display_data';\n",
              "        await google.colab.output.renderOutput(dataTable, element);\n",
              "        const docLink = document.createElement('div');\n",
              "        docLink.innerHTML = docLinkHtml;\n",
              "        element.appendChild(docLink);\n",
              "      }\n",
              "    </script>\n",
              "  </div>\n",
              "\n",
              "\n",
              "<div id=\"df-34dea143-d2a7-4b3e-9b01-6935fd3649b9\">\n",
              "  <button class=\"colab-df-quickchart\" onclick=\"quickchart('df-34dea143-d2a7-4b3e-9b01-6935fd3649b9')\"\n",
              "            title=\"Suggest charts.\"\n",
              "            style=\"display:none;\">\n",
              "\n",
              "<svg xmlns=\"http://www.w3.org/2000/svg\" height=\"24px\"viewBox=\"0 0 24 24\"\n",
              "     width=\"24px\">\n",
              "    <g>\n",
              "        <path d=\"M19 3H5c-1.1 0-2 .9-2 2v14c0 1.1.9 2 2 2h14c1.1 0 2-.9 2-2V5c0-1.1-.9-2-2-2zM9 17H7v-7h2v7zm4 0h-2V7h2v10zm4 0h-2v-4h2v4z\"/>\n",
              "    </g>\n",
              "</svg>\n",
              "  </button>\n",
              "\n",
              "<style>\n",
              "  .colab-df-quickchart {\n",
              "      --bg-color: #E8F0FE;\n",
              "      --fill-color: #1967D2;\n",
              "      --hover-bg-color: #E2EBFA;\n",
              "      --hover-fill-color: #174EA6;\n",
              "      --disabled-fill-color: #AAA;\n",
              "      --disabled-bg-color: #DDD;\n",
              "  }\n",
              "\n",
              "  [theme=dark] .colab-df-quickchart {\n",
              "      --bg-color: #3B4455;\n",
              "      --fill-color: #D2E3FC;\n",
              "      --hover-bg-color: #434B5C;\n",
              "      --hover-fill-color: #FFFFFF;\n",
              "      --disabled-bg-color: #3B4455;\n",
              "      --disabled-fill-color: #666;\n",
              "  }\n",
              "\n",
              "  .colab-df-quickchart {\n",
              "    background-color: var(--bg-color);\n",
              "    border: none;\n",
              "    border-radius: 50%;\n",
              "    cursor: pointer;\n",
              "    display: none;\n",
              "    fill: var(--fill-color);\n",
              "    height: 32px;\n",
              "    padding: 0;\n",
              "    width: 32px;\n",
              "  }\n",
              "\n",
              "  .colab-df-quickchart:hover {\n",
              "    background-color: var(--hover-bg-color);\n",
              "    box-shadow: 0 1px 2px rgba(60, 64, 67, 0.3), 0 1px 3px 1px rgba(60, 64, 67, 0.15);\n",
              "    fill: var(--button-hover-fill-color);\n",
              "  }\n",
              "\n",
              "  .colab-df-quickchart-complete:disabled,\n",
              "  .colab-df-quickchart-complete:disabled:hover {\n",
              "    background-color: var(--disabled-bg-color);\n",
              "    fill: var(--disabled-fill-color);\n",
              "    box-shadow: none;\n",
              "  }\n",
              "\n",
              "  .colab-df-spinner {\n",
              "    border: 2px solid var(--fill-color);\n",
              "    border-color: transparent;\n",
              "    border-bottom-color: var(--fill-color);\n",
              "    animation:\n",
              "      spin 1s steps(1) infinite;\n",
              "  }\n",
              "\n",
              "  @keyframes spin {\n",
              "    0% {\n",
              "      border-color: transparent;\n",
              "      border-bottom-color: var(--fill-color);\n",
              "      border-left-color: var(--fill-color);\n",
              "    }\n",
              "    20% {\n",
              "      border-color: transparent;\n",
              "      border-left-color: var(--fill-color);\n",
              "      border-top-color: var(--fill-color);\n",
              "    }\n",
              "    30% {\n",
              "      border-color: transparent;\n",
              "      border-left-color: var(--fill-color);\n",
              "      border-top-color: var(--fill-color);\n",
              "      border-right-color: var(--fill-color);\n",
              "    }\n",
              "    40% {\n",
              "      border-color: transparent;\n",
              "      border-right-color: var(--fill-color);\n",
              "      border-top-color: var(--fill-color);\n",
              "    }\n",
              "    60% {\n",
              "      border-color: transparent;\n",
              "      border-right-color: var(--fill-color);\n",
              "    }\n",
              "    80% {\n",
              "      border-color: transparent;\n",
              "      border-right-color: var(--fill-color);\n",
              "      border-bottom-color: var(--fill-color);\n",
              "    }\n",
              "    90% {\n",
              "      border-color: transparent;\n",
              "      border-bottom-color: var(--fill-color);\n",
              "    }\n",
              "  }\n",
              "</style>\n",
              "\n",
              "  <script>\n",
              "    async function quickchart(key) {\n",
              "      const quickchartButtonEl =\n",
              "        document.querySelector('#' + key + ' button');\n",
              "      quickchartButtonEl.disabled = true;  // To prevent multiple clicks.\n",
              "      quickchartButtonEl.classList.add('colab-df-spinner');\n",
              "      try {\n",
              "        const charts = await google.colab.kernel.invokeFunction(\n",
              "            'suggestCharts', [key], {});\n",
              "      } catch (error) {\n",
              "        console.error('Error during call to suggestCharts:', error);\n",
              "      }\n",
              "      quickchartButtonEl.classList.remove('colab-df-spinner');\n",
              "      quickchartButtonEl.classList.add('colab-df-quickchart-complete');\n",
              "    }\n",
              "    (() => {\n",
              "      let quickchartButtonEl =\n",
              "        document.querySelector('#df-34dea143-d2a7-4b3e-9b01-6935fd3649b9 button');\n",
              "      quickchartButtonEl.style.display =\n",
              "        google.colab.kernel.accessAllowed ? 'block' : 'none';\n",
              "    })();\n",
              "  </script>\n",
              "</div>\n",
              "    </div>\n",
              "  </div>\n"
            ]
          },
          "metadata": {},
          "execution_count": 9
        }
      ]
    },
    {
      "cell_type": "code",
      "source": [
        "# Sanity Check to ensure number of images and labels are equal:\n",
        "print(len(image_data))\n",
        "print(len(label_data))"
      ],
      "metadata": {
        "colab": {
          "base_uri": "https://localhost:8080/"
        },
        "id": "OlD3cuYlQp-P",
        "outputId": "54920b69-b4e2-4ff9-add4-df221079df0f"
      },
      "execution_count": 10,
      "outputs": [
        {
          "output_type": "stream",
          "name": "stdout",
          "text": [
            "251\n",
            "251\n"
          ]
        }
      ]
    },
    {
      "cell_type": "code",
      "source": [
        "# Plot the distribution of the class label\n",
        "def bar_plot(data, feature):\n",
        "    # Creating the countplot\n",
        "    plot = sns.countplot(x = feature, data = data)\n",
        "\n",
        "    # Finding the length the whole data\n",
        "    total = len(data)\n",
        "\n",
        "    # Creating the percentages to each label in the data\n",
        "    for p in plot.patches:\n",
        "        percentage = '{:.1f}%'.format(100 * p.get_height()/total)\n",
        "        x = p.get_x() + p.get_width() / 2 - 0.05\n",
        "        y = p.get_y() + p.get_height()\n",
        "        plot.annotate(percentage, (x, y),ha=\"center\",\n",
        "            va = \"center\",\n",
        "            size = 12,\n",
        "            xytext = (0, 5),\n",
        "            textcoords = \"offset points\")\n",
        "    plt.show()\n",
        "\n",
        "bar_plot(label_data,'Label')"
      ],
      "metadata": {
        "colab": {
          "base_uri": "https://localhost:8080/",
          "height": 449
        },
        "id": "pImY7ks6UpAE",
        "outputId": "a05b6583-5c57-483e-aac6-17759063b9fb"
      },
      "execution_count": 11,
      "outputs": [
        {
          "output_type": "display_data",
          "data": {
            "text/plain": [
              "<Figure size 640x480 with 1 Axes>"
            ],
            "image/png": "[encoded data removed]"
          },
          "metadata": {}
        }
      ]
    },
    {
      "cell_type": "code",
      "source": [
        "label_data['Label'].value_counts()"
      ],
      "metadata": {
        "colab": {
          "base_uri": "https://localhost:8080/"
        },
        "id": "XldJGAOEVHIB",
        "outputId": "dca3ffea-74cf-4220-ced4-407ce07aa4b0"
      },
      "execution_count": 12,
      "outputs": [
        {
          "output_type": "execute_result",
          "data": {
            "text/plain": [
              "Covid              111\n",
              "Viral Pneumonia     70\n",
              "Normal              70\n",
              "Name: Label, dtype: int64"
            ]
          },
          "metadata": {},
          "execution_count": 12
        }
      ]
    },
    {
      "cell_type": "code",
      "source": [],
      "metadata": {
        "id": "irjhfGxp4MIp"
      },
      "execution_count": null,
      "outputs": []
    },
    {
      "cell_type": "markdown",
      "source": [
        "### Data Preprocessing:"
      ],
      "metadata": {
        "id": "jZ4QDrha4hYN"
      }
    },
    {
      "cell_type": "code",
      "source": [
        "# Normalizing images:\n",
        "image_data_norm = image_data / 255.0"
      ],
      "metadata": {
        "id": "do7EKPl0Q018"
      },
      "execution_count": 13,
      "outputs": []
    },
    {
      "cell_type": "code",
      "source": [
        "image_data_norm[0]"
      ],
      "metadata": {
        "colab": {
          "base_uri": "https://localhost:8080/"
        },
        "id": "gU6uH246RKps",
        "outputId": "437696c2-89f6-47fe-c661-484b7a853e48"
      },
      "execution_count": 14,
      "outputs": [
        {
          "output_type": "execute_result",
          "data": {
            "text/plain": [
              "array([[[0.0627451 , 0.0627451 , 0.0627451 ],\n",
              "        [0.12156863, 0.12156863, 0.12156863],\n",
              "        [0.15294118, 0.15294118, 0.15294118],\n",
              "        ...,\n",
              "        [0.10588235, 0.10588235, 0.10588235],\n",
              "        [0.2       , 0.2       , 0.2       ],\n",
              "        [0.3254902 , 0.3254902 , 0.3254902 ]],\n",
              "\n",
              "       [[0.09019608, 0.09019608, 0.09019608],\n",
              "        [0.08235294, 0.08235294, 0.08235294],\n",
              "        [0.16078431, 0.16078431, 0.16078431],\n",
              "        ...,\n",
              "        [0.95686275, 0.95686275, 0.95686275],\n",
              "        [0.9254902 , 0.9254902 , 0.9254902 ],\n",
              "        [0.2627451 , 0.2627451 , 0.2627451 ]],\n",
              "\n",
              "       [[0.07058824, 0.07058824, 0.07058824],\n",
              "        [0.12156863, 0.12156863, 0.12156863],\n",
              "        [0.14509804, 0.14509804, 0.14509804],\n",
              "        ...,\n",
              "        [0.31372549, 0.31372549, 0.31372549],\n",
              "        [0.27058824, 0.27058824, 0.27058824],\n",
              "        [0.22745098, 0.22745098, 0.22745098]],\n",
              "\n",
              "       ...,\n",
              "\n",
              "       [[0.01960784, 0.01960784, 0.01960784],\n",
              "        [0.01568627, 0.01568627, 0.01568627],\n",
              "        [0.01568627, 0.01568627, 0.01568627],\n",
              "        ...,\n",
              "        [0.        , 0.        , 0.        ],\n",
              "        [0.        , 0.        , 0.        ],\n",
              "        [0.01568627, 0.01568627, 0.01568627]],\n",
              "\n",
              "       [[0.00392157, 0.00392157, 0.00392157],\n",
              "        [0.00784314, 0.00784314, 0.00784314],\n",
              "        [0.00784314, 0.00784314, 0.00784314],\n",
              "        ...,\n",
              "        [0.        , 0.        , 0.        ],\n",
              "        [0.        , 0.        , 0.        ],\n",
              "        [0.        , 0.        , 0.        ]],\n",
              "\n",
              "       [[0.01568627, 0.01568627, 0.01568627],\n",
              "        [0.00784314, 0.00784314, 0.00784314],\n",
              "        [0.99215686, 0.99215686, 0.99215686],\n",
              "        ...,\n",
              "        [0.        , 0.        , 0.        ],\n",
              "        [0.        , 0.        , 0.        ],\n",
              "        [0.        , 0.        , 0.        ]]])"
            ]
          },
          "metadata": {},
          "execution_count": 14
        }
      ]
    },
    {
      "cell_type": "code",
      "source": [],
      "metadata": {
        "id": "p6T1SxCaS_Sz"
      },
      "execution_count": 16,
      "outputs": []
    },
    {
      "cell_type": "code",
      "source": [
        "# Label Encoding:\n",
        "le = LabelEncoder()\n",
        "new_label = le.fit_transform(label_data.values)\n",
        "new_label_df = pd.DataFrame(new_label, columns=['Label'])\n",
        "new_label_df"
      ],
      "metadata": {
        "colab": {
          "base_uri": "https://localhost:8080/",
          "height": 423
        },
        "id": "8P4tLlX-SJdI",
        "outputId": "2fa1b166-2e3f-4484-b568-242a59cc4ea8"
      },
      "execution_count": 16,
      "outputs": [
        {
          "output_type": "execute_result",
          "data": {
            "text/plain": [
              "     Label\n",
              "0        2\n",
              "1        2\n",
              "2        2\n",
              "3        2\n",
              "4        2\n",
              "..     ...\n",
              "246      1\n",
              "247      1\n",
              "248      1\n",
              "249      1\n",
              "250      1\n",
              "\n",
              "[251 rows x 1 columns]"
            ],
            "text/html": [
              "\n",
              "  <div id=\"df-e5a8cd57-293d-4928-81d9-98379eefc789\" class=\"colab-df-container\">\n",
              "    <div>\n",
              "<style scoped>\n",
              "    .dataframe tbody tr th:only-of-type {\n",
              "        vertical-align: middle;\n",
              "    }\n",
              "\n",
              "    .dataframe tbody tr th {\n",
              "        vertical-align: top;\n",
              "    }\n",
              "\n",
              "    .dataframe thead th {\n",
              "        text-align: right;\n",
              "    }\n",
              "</style>\n",
              "<table border=\"1\" class=\"dataframe\">\n",
              "  <thead>\n",
              "    <tr style=\"text-align: right;\">\n",
              "      <th></th>\n",
              "      <th>Label</th>\n",
              "    </tr>\n",
              "  </thead>\n",
              "  <tbody>\n",
              "    <tr>\n",
              "      <th>0</th>\n",
              "      <td>2</td>\n",
              "    </tr>\n",
              "    <tr>\n",
              "      <th>1</th>\n",
              "      <td>2</td>\n",
              "    </tr>\n",
              "    <tr>\n",
              "      <th>2</th>\n",
              "      <td>2</td>\n",
              "    </tr>\n",
              "    <tr>\n",
              "      <th>3</th>\n",
              "      <td>2</td>\n",
              "    </tr>\n",
              "    <tr>\n",
              "      <th>4</th>\n",
              "      <td>2</td>\n",
              "    </tr>\n",
              "    <tr>\n",
              "      <th>...</th>\n",
              "      <td>...</td>\n",
              "    </tr>\n",
              "    <tr>\n",
              "      <th>246</th>\n",
              "      <td>1</td>\n",
              "    </tr>\n",
              "    <tr>\n",
              "      <th>247</th>\n",
              "      <td>1</td>\n",
              "    </tr>\n",
              "    <tr>\n",
              "      <th>248</th>\n",
              "      <td>1</td>\n",
              "    </tr>\n",
              "    <tr>\n",
              "      <th>249</th>\n",
              "      <td>1</td>\n",
              "    </tr>\n",
              "    <tr>\n",
              "      <th>250</th>\n",
              "      <td>1</td>\n",
              "    </tr>\n",
              "  </tbody>\n",
              "</table>\n",
              "<p>251 rows × 1 columns</p>\n",
              "</div>\n",
              "    <div class=\"colab-df-buttons\">\n",
              "\n",
              "  <div class=\"colab-df-container\">\n",
              "    <button class=\"colab-df-convert\" onclick=\"convertToInteractive('df-e5a8cd57-293d-4928-81d9-98379eefc789')\"\n",
              "            title=\"Convert this dataframe to an interactive table.\"\n",
              "            style=\"display:none;\">\n",
              "\n",
              "  <svg xmlns=\"http://www.w3.org/2000/svg\" height=\"24px\" viewBox=\"0 -960 960 960\">\n",
              "    <path d=\"M120-120v-720h720v720H120Zm60-500h600v-160H180v160Zm220 220h160v-160H400v160Zm0 220h160v-160H400v160ZM180-400h160v-160H180v160Zm440 0h160v-160H620v160ZM180-180h160v-160H180v160Zm440 0h160v-160H620v160Z\"/>\n",
              "  </svg>\n",
              "    </button>\n",
              "\n",
              "  <style>\n",
              "    .colab-df-container {\n",
              "      display:flex;\n",
              "      gap: 12px;\n",
              "    }\n",
              "\n",
              "    .colab-df-convert {\n",
              "      background-color: #E8F0FE;\n",
              "      border: none;\n",
              "      border-radius: 50%;\n",
              "      cursor: pointer;\n",
              "      display: none;\n",
              "      fill: #1967D2;\n",
              "      height: 32px;\n",
              "      padding: 0 0 0 0;\n",
              "      width: 32px;\n",
              "    }\n",
              "\n",
              "    .colab-df-convert:hover {\n",
              "      background-color: #E2EBFA;\n",
              "      box-shadow: 0px 1px 2px rgba(60, 64, 67, 0.3), 0px 1px 3px 1px rgba(60, 64, 67, 0.15);\n",
              "      fill: #174EA6;\n",
              "    }\n",
              "\n",
              "    .colab-df-buttons div {\n",
              "      margin-bottom: 4px;\n",
              "    }\n",
              "\n",
              "    [theme=dark] .colab-df-convert {\n",
              "      background-color: #3B4455;\n",
              "      fill: #D2E3FC;\n",
              "    }\n",
              "\n",
              "    [theme=dark] .colab-df-convert:hover {\n",
              "      background-color: #434B5C;\n",
              "      box-shadow: 0px 1px 3px 1px rgba(0, 0, 0, 0.15);\n",
              "      filter: drop-shadow(0px 1px 2px rgba(0, 0, 0, 0.3));\n",
              "      fill: #FFFFFF;\n",
              "    }\n",
              "  </style>\n",
              "\n",
              "    <script>\n",
              "      const buttonEl =\n",
              "        document.querySelector('#df-e5a8cd57-293d-4928-81d9-98379eefc789 button.colab-df-convert');\n",
              "      buttonEl.style.display =\n",
              "        google.colab.kernel.accessAllowed ? 'block' : 'none';\n",
              "\n",
              "      async function convertToInteractive(key) {\n",
              "        const element = document.querySelector('#df-e5a8cd57-293d-4928-81d9-98379eefc789');\n",
              "        const dataTable =\n",
              "          await google.colab.kernel.invokeFunction('convertToInteractive',\n",
              "                                                    [key], {});\n",
              "        if (!dataTable) return;\n",
              "\n",
              "        const docLinkHtml = 'Like what you see? Visit the ' +\n",
              "          '<a target=\"_blank\" href=https://colab.research.google.com/notebooks/data_table.ipynb>data table notebook</a>'\n",
              "          + ' to learn more about interactive tables.';\n",
              "        element.innerHTML = '';\n",
              "        dataTable['output_type'] = 'display_data';\n",
              "        await google.colab.output.renderOutput(dataTable, element);\n",
              "        const docLink = document.createElement('div');\n",
              "        docLink.innerHTML = docLinkHtml;\n",
              "        element.appendChild(docLink);\n",
              "      }\n",
              "    </script>\n",
              "  </div>\n",
              "\n",
              "\n",
              "<div id=\"df-d0780309-b982-4325-9bf3-aa602f3f32fb\">\n",
              "  <button class=\"colab-df-quickchart\" onclick=\"quickchart('df-d0780309-b982-4325-9bf3-aa602f3f32fb')\"\n",
              "            title=\"Suggest charts.\"\n",
              "            style=\"display:none;\">\n",
              "\n",
              "<svg xmlns=\"http://www.w3.org/2000/svg\" height=\"24px\"viewBox=\"0 0 24 24\"\n",
              "     width=\"24px\">\n",
              "    <g>\n",
              "        <path d=\"M19 3H5c-1.1 0-2 .9-2 2v14c0 1.1.9 2 2 2h14c1.1 0 2-.9 2-2V5c0-1.1-.9-2-2-2zM9 17H7v-7h2v7zm4 0h-2V7h2v10zm4 0h-2v-4h2v4z\"/>\n",
              "    </g>\n",
              "</svg>\n",
              "  </button>\n",
              "\n",
              "<style>\n",
              "  .colab-df-quickchart {\n",
              "      --bg-color: #E8F0FE;\n",
              "      --fill-color: #1967D2;\n",
              "      --hover-bg-color: #E2EBFA;\n",
              "      --hover-fill-color: #174EA6;\n",
              "      --disabled-fill-color: #AAA;\n",
              "      --disabled-bg-color: #DDD;\n",
              "  }\n",
              "\n",
              "  [theme=dark] .colab-df-quickchart {\n",
              "      --bg-color: #3B4455;\n",
              "      --fill-color: #D2E3FC;\n",
              "      --hover-bg-color: #434B5C;\n",
              "      --hover-fill-color: #FFFFFF;\n",
              "      --disabled-bg-color: #3B4455;\n",
              "      --disabled-fill-color: #666;\n",
              "  }\n",
              "\n",
              "  .colab-df-quickchart {\n",
              "    background-color: var(--bg-color);\n",
              "    border: none;\n",
              "    border-radius: 50%;\n",
              "    cursor: pointer;\n",
              "    display: none;\n",
              "    fill: var(--fill-color);\n",
              "    height: 32px;\n",
              "    padding: 0;\n",
              "    width: 32px;\n",
              "  }\n",
              "\n",
              "  .colab-df-quickchart:hover {\n",
              "    background-color: var(--hover-bg-color);\n",
              "    box-shadow: 0 1px 2px rgba(60, 64, 67, 0.3), 0 1px 3px 1px rgba(60, 64, 67, 0.15);\n",
              "    fill: var(--button-hover-fill-color);\n",
              "  }\n",
              "\n",
              "  .colab-df-quickchart-complete:disabled,\n",
              "  .colab-df-quickchart-complete:disabled:hover {\n",
              "    background-color: var(--disabled-bg-color);\n",
              "    fill: var(--disabled-fill-color);\n",
              "    box-shadow: none;\n",
              "  }\n",
              "\n",
              "  .colab-df-spinner {\n",
              "    border: 2px solid var(--fill-color);\n",
              "    border-color: transparent;\n",
              "    border-bottom-color: var(--fill-color);\n",
              "    animation:\n",
              "      spin 1s steps(1) infinite;\n",
              "  }\n",
              "\n",
              "  @keyframes spin {\n",
              "    0% {\n",
              "      border-color: transparent;\n",
              "      border-bottom-color: var(--fill-color);\n",
              "      border-left-color: var(--fill-color);\n",
              "    }\n",
              "    20% {\n",
              "      border-color: transparent;\n",
              "      border-left-color: var(--fill-color);\n",
              "      border-top-color: var(--fill-color);\n",
              "    }\n",
              "    30% {\n",
              "      border-color: transparent;\n",
              "      border-left-color: var(--fill-color);\n",
              "      border-top-color: var(--fill-color);\n",
              "      border-right-color: var(--fill-color);\n",
              "    }\n",
              "    40% {\n",
              "      border-color: transparent;\n",
              "      border-right-color: var(--fill-color);\n",
              "      border-top-color: var(--fill-color);\n",
              "    }\n",
              "    60% {\n",
              "      border-color: transparent;\n",
              "      border-right-color: var(--fill-color);\n",
              "    }\n",
              "    80% {\n",
              "      border-color: transparent;\n",
              "      border-right-color: var(--fill-color);\n",
              "      border-bottom-color: var(--fill-color);\n",
              "    }\n",
              "    90% {\n",
              "      border-color: transparent;\n",
              "      border-bottom-color: var(--fill-color);\n",
              "    }\n",
              "  }\n",
              "</style>\n",
              "\n",
              "  <script>\n",
              "    async function quickchart(key) {\n",
              "      const quickchartButtonEl =\n",
              "        document.querySelector('#' + key + ' button');\n",
              "      quickchartButtonEl.disabled = true;  // To prevent multiple clicks.\n",
              "      quickchartButtonEl.classList.add('colab-df-spinner');\n",
              "      try {\n",
              "        const charts = await google.colab.kernel.invokeFunction(\n",
              "            'suggestCharts', [key], {});\n",
              "      } catch (error) {\n",
              "        console.error('Error during call to suggestCharts:', error);\n",
              "      }\n",
              "      quickchartButtonEl.classList.remove('colab-df-spinner');\n",
              "      quickchartButtonEl.classList.add('colab-df-quickchart-complete');\n",
              "    }\n",
              "    (() => {\n",
              "      let quickchartButtonEl =\n",
              "        document.querySelector('#df-d0780309-b982-4325-9bf3-aa602f3f32fb button');\n",
              "      quickchartButtonEl.style.display =\n",
              "        google.colab.kernel.accessAllowed ? 'block' : 'none';\n",
              "    })();\n",
              "  </script>\n",
              "</div>\n",
              "    </div>\n",
              "  </div>\n"
            ]
          },
          "metadata": {},
          "execution_count": 16
        }
      ]
    },
    {
      "cell_type": "code",
      "source": [
        "new_label_df['Label'].unique()"
      ],
      "metadata": {
        "colab": {
          "base_uri": "https://localhost:8080/"
        },
        "id": "awNOcpEXTftn",
        "outputId": "7d6b9902-a1c5-4a34-c6dc-cba564e2078f"
      },
      "execution_count": 17,
      "outputs": [
        {
          "output_type": "execute_result",
          "data": {
            "text/plain": [
              "array([2, 0, 1])"
            ]
          },
          "metadata": {},
          "execution_count": 17
        }
      ]
    },
    {
      "cell_type": "code",
      "source": [
        "unique_label = label_data['Label'].unique()\n",
        "unique_label"
      ],
      "metadata": {
        "colab": {
          "base_uri": "https://localhost:8080/"
        },
        "id": "l4sJ_ZrHTwDi",
        "outputId": "20ea6021-ad08-46f2-c7e2-ab625a6da0f8"
      },
      "execution_count": 18,
      "outputs": [
        {
          "output_type": "execute_result",
          "data": {
            "text/plain": [
              "array(['Viral Pneumonia', 'Covid', 'Normal'], dtype=object)"
            ]
          },
          "metadata": {},
          "execution_count": 18
        }
      ]
    },
    {
      "cell_type": "markdown",
      "source": [
        "## Model Building:"
      ],
      "metadata": {
        "id": "J21wckc95Vh8"
      }
    },
    {
      "cell_type": "code",
      "source": [
        "y = new_label_df['Label']"
      ],
      "metadata": {
        "id": "1B9lV1uiUGVc"
      },
      "execution_count": 19,
      "outputs": []
    },
    {
      "cell_type": "code",
      "source": [
        "X_train, X_test, y_train, y_test = train_test_split(image_data_norm, y, stratify=y, test_size=0.2, random_state=42)"
      ],
      "metadata": {
        "id": "tNuo8hqLdDTs"
      },
      "execution_count": 20,
      "outputs": []
    },
    {
      "cell_type": "code",
      "source": [
        "y_train.value_counts()"
      ],
      "metadata": {
        "colab": {
          "base_uri": "https://localhost:8080/"
        },
        "id": "0fhJkYIsdDVe",
        "outputId": "d1eb84fb-4966-4a92-e458-3f4e0b0afcfe"
      },
      "execution_count": 21,
      "outputs": [
        {
          "output_type": "execute_result",
          "data": {
            "text/plain": [
              "0    88\n",
              "1    56\n",
              "2    56\n",
              "Name: Label, dtype: int64"
            ]
          },
          "metadata": {},
          "execution_count": 21
        }
      ]
    },
    {
      "cell_type": "code",
      "source": [
        "y_test.value_counts()"
      ],
      "metadata": {
        "colab": {
          "base_uri": "https://localhost:8080/"
        },
        "id": "hKSpDyxtdDYC",
        "outputId": "f31bd994-45a2-46f7-dbd2-61db582d0dfd"
      },
      "execution_count": 22,
      "outputs": [
        {
          "output_type": "execute_result",
          "data": {
            "text/plain": [
              "0    23\n",
              "1    14\n",
              "2    14\n",
              "Name: Label, dtype: int64"
            ]
          },
          "metadata": {},
          "execution_count": 22
        }
      ]
    },
    {
      "cell_type": "code",
      "source": [
        "X_train.shape"
      ],
      "metadata": {
        "colab": {
          "base_uri": "https://localhost:8080/"
        },
        "id": "zkj9OGU6e0Ud",
        "outputId": "09a16a21-2b7c-453d-fea6-9d751a0f47d1"
      },
      "execution_count": 23,
      "outputs": [
        {
          "output_type": "execute_result",
          "data": {
            "text/plain": [
              "(200, 128, 128, 3)"
            ]
          },
          "metadata": {},
          "execution_count": 23
        }
      ]
    },
    {
      "cell_type": "code",
      "source": [
        "# Define Model Architecture\n",
        "model = Sequential()\n",
        "model.add(Conv2D(32, (3,3), activation = 'relu', input_shape = (128,128,3)))\n",
        "model.add(MaxPooling2D((2,2)))\n",
        "\n",
        "model.add(Conv2D(64, (3,3), activation = 'relu'))\n",
        "model.add(MaxPooling2D((2,2)))\n",
        "\n",
        "model.add(Conv2D(64, (3,3), activation = 'relu'))\n",
        "model.add(MaxPooling2D((2,2)))\n",
        "\n",
        "model.add(Conv2D(128, (3,3), activation = 'relu'))\n",
        "model.add(MaxPooling2D((2,2)))\n",
        "\n",
        "model.add(Flatten())\n",
        "model.add(Dense(128, activation = 'relu'))\n",
        "model.add(Dropout(0.3))\n",
        "model.add(Dense(3, activation = 'softmax'))\n",
        "\n",
        "model.compile(optimizer='adam', loss='categorical_crossentropy', metrics=['accuracy'])\n",
        "\n",
        "model.summary()"
      ],
      "metadata": {
        "colab": {
          "base_uri": "https://localhost:8080/"
        },
        "id": "u2p280xRdDZx",
        "outputId": "b9324367-a127-4636-96e2-65ef403dd93e"
      },
      "execution_count": 57,
      "outputs": [
        {
          "output_type": "stream",
          "name": "stdout",
          "text": [
            "Model: \"sequential_2\"\n",
            "_________________________________________________________________\n",
            " Layer (type)                Output Shape              Param #   \n",
            "=================================================================\n",
            " conv2d_8 (Conv2D)           (None, 126, 126, 32)      896       \n",
            "                                                                 \n",
            " max_pooling2d_8 (MaxPoolin  (None, 63, 63, 32)        0         \n",
            " g2D)                                                            \n",
            "                                                                 \n",
            " conv2d_9 (Conv2D)           (None, 61, 61, 64)        18496     \n",
            "                                                                 \n",
            " max_pooling2d_9 (MaxPoolin  (None, 30, 30, 64)        0         \n",
            " g2D)                                                            \n",
            "                                                                 \n",
            " conv2d_10 (Conv2D)          (None, 28, 28, 64)        36928     \n",
            "                                                                 \n",
            " max_pooling2d_10 (MaxPooli  (None, 14, 14, 64)        0         \n",
            " ng2D)                                                           \n",
            "                                                                 \n",
            " conv2d_11 (Conv2D)          (None, 12, 12, 128)       73856     \n",
            "                                                                 \n",
            " max_pooling2d_11 (MaxPooli  (None, 6, 6, 128)         0         \n",
            " ng2D)                                                           \n",
            "                                                                 \n",
            " flatten_2 (Flatten)         (None, 4608)              0         \n",
            "                                                                 \n",
            " dense_4 (Dense)             (None, 128)               589952    \n",
            "                                                                 \n",
            " dropout_2 (Dropout)         (None, 128)               0         \n",
            "                                                                 \n",
            " dense_5 (Dense)             (None, 3)                 387       \n",
            "                                                                 \n",
            "=================================================================\n",
            "Total params: 720515 (2.75 MB)\n",
            "Trainable params: 720515 (2.75 MB)\n",
            "Non-trainable params: 0 (0.00 Byte)\n",
            "_________________________________________________________________\n"
          ]
        }
      ]
    },
    {
      "cell_type": "code",
      "source": [
        "model.fit(X_train, to_categorical(y_train), epochs=50, batch_size=32, validation_data=(X_test, to_categorical(y_test)))"
      ],
      "metadata": {
        "colab": {
          "base_uri": "https://localhost:8080/"
        },
        "id": "1Ma4m4pfdDb9",
        "outputId": "f46f64fd-b551-41e8-be84-d73b0265aa69"
      },
      "execution_count": 65,
      "outputs": [
        {
          "output_type": "stream",
          "name": "stdout",
          "text": [
            "Epoch 1/50\n",
            "7/7 [==============================] - 14s 180ms/step - loss: 1.1130 - accuracy: 0.4200 - val_loss: 1.0467 - val_accuracy: 0.4510\n",
            "Epoch 2/50\n",
            "7/7 [==============================] - 0s 27ms/step - loss: 1.0204 - accuracy: 0.5700 - val_loss: 0.9211 - val_accuracy: 0.4510\n",
            "Epoch 3/50\n",
            "7/7 [==============================] - 0s 21ms/step - loss: 0.7717 - accuracy: 0.6600 - val_loss: 0.5909 - val_accuracy: 0.7451\n",
            "Epoch 4/50\n",
            "7/7 [==============================] - 0s 23ms/step - loss: 0.5907 - accuracy: 0.6950 - val_loss: 0.3516 - val_accuracy: 0.8824\n",
            "Epoch 5/50\n",
            "7/7 [==============================] - 0s 22ms/step - loss: 0.3813 - accuracy: 0.8500 - val_loss: 0.2223 - val_accuracy: 0.9216\n",
            "Epoch 6/50\n",
            "7/7 [==============================] - 0s 22ms/step - loss: 0.2821 - accuracy: 0.8950 - val_loss: 0.1722 - val_accuracy: 0.9020\n",
            "Epoch 7/50\n",
            "7/7 [==============================] - 0s 22ms/step - loss: 0.2485 - accuracy: 0.9050 - val_loss: 0.8214 - val_accuracy: 0.7843\n",
            "Epoch 8/50\n",
            "7/7 [==============================] - 0s 22ms/step - loss: 0.3032 - accuracy: 0.8800 - val_loss: 0.2305 - val_accuracy: 0.8627\n",
            "Epoch 9/50\n",
            "7/7 [==============================] - 0s 21ms/step - loss: 0.2833 - accuracy: 0.8850 - val_loss: 0.3129 - val_accuracy: 0.8627\n",
            "Epoch 10/50\n",
            "7/7 [==============================] - 0s 21ms/step - loss: 0.3661 - accuracy: 0.8800 - val_loss: 0.3774 - val_accuracy: 0.8235\n",
            "Epoch 11/50\n",
            "7/7 [==============================] - 0s 21ms/step - loss: 0.2495 - accuracy: 0.9200 - val_loss: 0.1871 - val_accuracy: 0.9216\n",
            "Epoch 12/50\n",
            "7/7 [==============================] - 0s 22ms/step - loss: 0.1913 - accuracy: 0.9050 - val_loss: 0.1352 - val_accuracy: 0.9216\n",
            "Epoch 13/50\n",
            "7/7 [==============================] - 0s 22ms/step - loss: 0.2144 - accuracy: 0.8950 - val_loss: 0.1392 - val_accuracy: 0.9216\n",
            "Epoch 14/50\n",
            "7/7 [==============================] - 0s 22ms/step - loss: 0.1409 - accuracy: 0.9400 - val_loss: 0.1288 - val_accuracy: 0.9412\n",
            "Epoch 15/50\n",
            "7/7 [==============================] - 0s 22ms/step - loss: 0.1402 - accuracy: 0.9400 - val_loss: 0.1639 - val_accuracy: 0.9216\n",
            "Epoch 16/50\n",
            "7/7 [==============================] - 0s 22ms/step - loss: 0.1127 - accuracy: 0.9550 - val_loss: 0.1311 - val_accuracy: 0.9412\n",
            "Epoch 17/50\n",
            "7/7 [==============================] - 0s 22ms/step - loss: 0.1526 - accuracy: 0.9650 - val_loss: 0.1740 - val_accuracy: 0.9412\n",
            "Epoch 18/50\n",
            "7/7 [==============================] - 0s 21ms/step - loss: 0.1194 - accuracy: 0.9450 - val_loss: 0.1309 - val_accuracy: 0.9412\n",
            "Epoch 19/50\n",
            "7/7 [==============================] - 0s 22ms/step - loss: 0.1439 - accuracy: 0.9550 - val_loss: 0.1365 - val_accuracy: 0.9608\n",
            "Epoch 20/50\n",
            "7/7 [==============================] - 0s 22ms/step - loss: 0.0804 - accuracy: 0.9600 - val_loss: 0.2027 - val_accuracy: 0.9020\n",
            "Epoch 21/50\n",
            "7/7 [==============================] - 0s 21ms/step - loss: 0.1143 - accuracy: 0.9550 - val_loss: 0.1458 - val_accuracy: 0.9020\n",
            "Epoch 22/50\n",
            "7/7 [==============================] - 0s 22ms/step - loss: 0.0559 - accuracy: 0.9750 - val_loss: 0.1175 - val_accuracy: 0.9216\n",
            "Epoch 23/50\n",
            "7/7 [==============================] - 0s 21ms/step - loss: 0.0979 - accuracy: 0.9700 - val_loss: 0.0887 - val_accuracy: 0.9804\n",
            "Epoch 24/50\n",
            "7/7 [==============================] - 0s 22ms/step - loss: 0.0391 - accuracy: 0.9800 - val_loss: 0.1116 - val_accuracy: 0.9608\n",
            "Epoch 25/50\n",
            "7/7 [==============================] - 0s 21ms/step - loss: 0.0295 - accuracy: 0.9900 - val_loss: 0.1408 - val_accuracy: 0.9608\n",
            "Epoch 26/50\n",
            "7/7 [==============================] - 0s 25ms/step - loss: 0.0571 - accuracy: 0.9800 - val_loss: 0.0755 - val_accuracy: 0.9804\n",
            "Epoch 27/50\n",
            "7/7 [==============================] - 0s 21ms/step - loss: 0.0330 - accuracy: 0.9900 - val_loss: 0.1223 - val_accuracy: 0.9412\n",
            "Epoch 28/50\n",
            "7/7 [==============================] - 0s 22ms/step - loss: 0.0523 - accuracy: 0.9850 - val_loss: 0.1006 - val_accuracy: 0.9608\n",
            "Epoch 29/50\n",
            "7/7 [==============================] - 0s 20ms/step - loss: 0.0499 - accuracy: 0.9850 - val_loss: 0.1195 - val_accuracy: 0.9608\n",
            "Epoch 30/50\n",
            "7/7 [==============================] - 0s 21ms/step - loss: 0.0396 - accuracy: 0.9850 - val_loss: 0.1394 - val_accuracy: 0.9412\n",
            "Epoch 31/50\n",
            "7/7 [==============================] - 0s 22ms/step - loss: 0.0257 - accuracy: 1.0000 - val_loss: 0.0670 - val_accuracy: 0.9804\n",
            "Epoch 32/50\n",
            "7/7 [==============================] - 0s 21ms/step - loss: 0.0100 - accuracy: 1.0000 - val_loss: 0.0930 - val_accuracy: 0.9412\n",
            "Epoch 33/50\n",
            "7/7 [==============================] - 0s 23ms/step - loss: 0.0135 - accuracy: 0.9950 - val_loss: 0.0544 - val_accuracy: 0.9804\n",
            "Epoch 34/50\n",
            "7/7 [==============================] - 0s 22ms/step - loss: 0.0115 - accuracy: 0.9950 - val_loss: 0.0627 - val_accuracy: 0.9804\n",
            "Epoch 35/50\n",
            "7/7 [==============================] - 0s 22ms/step - loss: 0.0116 - accuracy: 0.9950 - val_loss: 0.0720 - val_accuracy: 0.9608\n",
            "Epoch 36/50\n",
            "7/7 [==============================] - 0s 20ms/step - loss: 0.0027 - accuracy: 1.0000 - val_loss: 0.1043 - val_accuracy: 0.9608\n",
            "Epoch 37/50\n",
            "7/7 [==============================] - 0s 22ms/step - loss: 0.0044 - accuracy: 1.0000 - val_loss: 0.1286 - val_accuracy: 0.9412\n",
            "Epoch 38/50\n",
            "7/7 [==============================] - 0s 21ms/step - loss: 0.0023 - accuracy: 1.0000 - val_loss: 0.0930 - val_accuracy: 0.9608\n",
            "Epoch 39/50\n",
            "7/7 [==============================] - 0s 22ms/step - loss: 0.0043 - accuracy: 1.0000 - val_loss: 0.0895 - val_accuracy: 0.9608\n",
            "Epoch 40/50\n",
            "7/7 [==============================] - 0s 21ms/step - loss: 0.0020 - accuracy: 1.0000 - val_loss: 0.0896 - val_accuracy: 0.9804\n",
            "Epoch 41/50\n",
            "7/7 [==============================] - 0s 21ms/step - loss: 6.4974e-04 - accuracy: 1.0000 - val_loss: 0.1080 - val_accuracy: 0.9608\n",
            "Epoch 42/50\n",
            "7/7 [==============================] - 0s 22ms/step - loss: 0.0032 - accuracy: 1.0000 - val_loss: 0.1129 - val_accuracy: 0.9412\n",
            "Epoch 43/50\n",
            "7/7 [==============================] - 0s 22ms/step - loss: 0.0016 - accuracy: 1.0000 - val_loss: 0.1199 - val_accuracy: 0.9608\n",
            "Epoch 44/50\n",
            "7/7 [==============================] - 0s 21ms/step - loss: 7.2533e-04 - accuracy: 1.0000 - val_loss: 0.1315 - val_accuracy: 0.9608\n",
            "Epoch 45/50\n",
            "7/7 [==============================] - 0s 23ms/step - loss: 0.0029 - accuracy: 1.0000 - val_loss: 0.1353 - val_accuracy: 0.9608\n",
            "Epoch 46/50\n",
            "7/7 [==============================] - 0s 24ms/step - loss: 7.7190e-04 - accuracy: 1.0000 - val_loss: 0.1140 - val_accuracy: 0.9608\n",
            "Epoch 47/50\n",
            "7/7 [==============================] - 0s 22ms/step - loss: 4.7546e-04 - accuracy: 1.0000 - val_loss: 0.1130 - val_accuracy: 0.9608\n",
            "Epoch 48/50\n",
            "7/7 [==============================] - 0s 21ms/step - loss: 0.0012 - accuracy: 1.0000 - val_loss: 0.1361 - val_accuracy: 0.9608\n",
            "Epoch 49/50\n",
            "7/7 [==============================] - 0s 22ms/step - loss: 5.0917e-04 - accuracy: 1.0000 - val_loss: 0.1388 - val_accuracy: 0.9608\n",
            "Epoch 50/50\n",
            "7/7 [==============================] - 0s 21ms/step - loss: 0.0016 - accuracy: 1.0000 - val_loss: 0.1153 - val_accuracy: 0.9608\n"
          ]
        },
        {
          "output_type": "execute_result",
          "data": {
            "text/plain": [
              "<keras.src.callbacks.History at 0x7d96503e22c0>"
            ]
          },
          "metadata": {},
          "execution_count": 65
        }
      ]
    },
    {
      "cell_type": "markdown",
      "source": [
        "## Transfer Learning with vgg16:"
      ],
      "metadata": {
        "id": "-9pt1_W75idx"
      }
    },
    {
      "cell_type": "code",
      "source": [
        "from tensorflow.keras.applications.vgg16 import VGG16"
      ],
      "metadata": {
        "id": "PM8VftzTdDk_"
      },
      "execution_count": 24,
      "outputs": []
    },
    {
      "cell_type": "code",
      "source": [
        "# define VGG16\n",
        "base_model = VGG16(include_top=False,input_shape = (128,128,3), weights='imagenet',)\n",
        "\n",
        "# Freezing the layers because we need just the weights and not the layers.\n",
        "for layer in base_model.layers:\n",
        "    layer.trainable = False\n",
        "\n",
        "# Define the Architecture:\n",
        "model2 = Sequential()\n",
        "model2.add(base_model)\n",
        "model2.add(Flatten())\n",
        "model2.add(Dense(1024, activation = 'relu'))\n",
        "model2.add(Dropout(0.5))\n",
        "model2.add(Dense(3, activation = 'softmax'))\n",
        "\n",
        "model2.summary()"
      ],
      "metadata": {
        "colab": {
          "base_uri": "https://localhost:8080/"
        },
        "id": "5K81I-OvdDmu",
        "outputId": "618e9edf-85dd-43c7-af57-158a94e831bf"
      },
      "execution_count": 77,
      "outputs": [
        {
          "output_type": "stream",
          "name": "stdout",
          "text": [
            "Model: \"sequential_6\"\n",
            "_________________________________________________________________\n",
            " Layer (type)                Output Shape              Param #   \n",
            "=================================================================\n",
            " vgg16 (Functional)          (None, 4, 4, 512)         14714688  \n",
            "                                                                 \n",
            " flatten_6 (Flatten)         (None, 8192)              0         \n",
            "                                                                 \n",
            " dense_12 (Dense)            (None, 1024)              8389632   \n",
            "                                                                 \n",
            " dropout_6 (Dropout)         (None, 1024)              0         \n",
            "                                                                 \n",
            " dense_13 (Dense)            (None, 3)                 3075      \n",
            "                                                                 \n",
            "=================================================================\n",
            "Total params: 23107395 (88.15 MB)\n",
            "Trainable params: 8392707 (32.02 MB)\n",
            "Non-trainable params: 14714688 (56.13 MB)\n",
            "_________________________________________________________________\n"
          ]
        }
      ]
    },
    {
      "cell_type": "code",
      "source": [
        "# compile the model\n",
        "model2.compile(optimizer='adam', loss='categorical_crossentropy', metrics=['accuracy'])\n",
        "model_path = '/content/drive/MyDrive/MLOps Class/Model'\n",
        "checkpoint4 = ModelCheckpoint(os.path.join(model_path, 'model_vgg3.hdf5'),save_best_only=True, verbose=1)\n",
        "es = EarlyStopping(patience=3)"
      ],
      "metadata": {
        "id": "xbwrmzy3haNy"
      },
      "execution_count": 79,
      "outputs": []
    },
    {
      "cell_type": "code",
      "source": [
        "history2 = model2.fit(X_train, to_categorical(y_train), epochs=50, batch_size=32, validation_data=(X_test, to_categorical(y_test)), callbacks=[checkpoint4, es])"
      ],
      "metadata": {
        "colab": {
          "base_uri": "https://localhost:8080/"
        },
        "id": "RCK4IegXiOPX",
        "outputId": "b01296aa-b5b1-4646-a997-873494b7e503"
      },
      "execution_count": 80,
      "outputs": [
        {
          "output_type": "stream",
          "name": "stdout",
          "text": [
            "Epoch 1/50\n",
            "6/7 [========================>.....] - ETA: 0s - loss: 2.6770 - accuracy: 0.4531\n",
            "Epoch 1: val_loss improved from inf to 0.45288, saving model to /content/drive/MyDrive/MLOps Class/Model/model_vgg3.hdf5\n"
          ]
        },
        {
          "output_type": "stream",
          "name": "stderr",
          "text": [
            "/usr/local/lib/python3.10/dist-packages/keras/src/engine/training.py:3000: UserWarning: You are saving your model as an HDF5 file via `model.save()`. This file format is considered legacy. We recommend using instead the native Keras format, e.g. `model.save('my_model.keras')`.\n",
            "  saving_api.save_model(\n"
          ]
        },
        {
          "output_type": "stream",
          "name": "stdout",
          "text": [
            "\b\b\b\b\b\b\b\b\b\b\b\b\b\b\b\b\b\b\b\b\b\b\b\b\b\b\b\b\b\b\b\b\b\b\b\b\b\b\b\b\b\b\b\b\b\b\b\b\b\b\b\b\b\b\b\b\b\b\b\b\b\b\b\b\b\b\b\b\b\b\b\b\b\b\b\b\b\b\b\b\r7/7 [==============================] - 3s 204ms/step - loss: 2.5740 - accuracy: 0.4750 - val_loss: 0.4529 - val_accuracy: 0.8235\n",
            "Epoch 2/50\n",
            "7/7 [==============================] - ETA: 0s - loss: 0.5310 - accuracy: 0.8050\n",
            "Epoch 2: val_loss improved from 0.45288 to 0.23374, saving model to /content/drive/MyDrive/MLOps Class/Model/model_vgg3.hdf5\n",
            "7/7 [==============================] - 5s 746ms/step - loss: 0.5310 - accuracy: 0.8050 - val_loss: 0.2337 - val_accuracy: 0.9020\n",
            "Epoch 3/50\n",
            "7/7 [==============================] - ETA: 0s - loss: 0.2684 - accuracy: 0.9200\n",
            "Epoch 3: val_loss improved from 0.23374 to 0.05796, saving model to /content/drive/MyDrive/MLOps Class/Model/model_vgg3.hdf5\n",
            "7/7 [==============================] - 1s 153ms/step - loss: 0.2684 - accuracy: 0.9200 - val_loss: 0.0580 - val_accuracy: 1.0000\n",
            "Epoch 4/50\n",
            "7/7 [==============================] - ETA: 0s - loss: 0.2131 - accuracy: 0.9200\n",
            "Epoch 4: val_loss improved from 0.05796 to 0.05594, saving model to /content/drive/MyDrive/MLOps Class/Model/model_vgg3.hdf5\n",
            "7/7 [==============================] - 4s 691ms/step - loss: 0.2131 - accuracy: 0.9200 - val_loss: 0.0559 - val_accuracy: 0.9804\n",
            "Epoch 5/50\n",
            "7/7 [==============================] - ETA: 0s - loss: 0.1342 - accuracy: 0.9600\n",
            "Epoch 5: val_loss improved from 0.05594 to 0.03482, saving model to /content/drive/MyDrive/MLOps Class/Model/model_vgg3.hdf5\n",
            "7/7 [==============================] - 1s 206ms/step - loss: 0.1342 - accuracy: 0.9600 - val_loss: 0.0348 - val_accuracy: 1.0000\n",
            "Epoch 6/50\n",
            "7/7 [==============================] - ETA: 0s - loss: 0.0746 - accuracy: 0.9700\n",
            "Epoch 6: val_loss did not improve from 0.03482\n",
            "7/7 [==============================] - 0s 75ms/step - loss: 0.0746 - accuracy: 0.9700 - val_loss: 0.0606 - val_accuracy: 0.9804\n",
            "Epoch 7/50\n",
            "7/7 [==============================] - ETA: 0s - loss: 0.0617 - accuracy: 0.9650\n",
            "Epoch 7: val_loss improved from 0.03482 to 0.03432, saving model to /content/drive/MyDrive/MLOps Class/Model/model_vgg3.hdf5\n",
            "7/7 [==============================] - 2s 252ms/step - loss: 0.0617 - accuracy: 0.9650 - val_loss: 0.0343 - val_accuracy: 1.0000\n",
            "Epoch 8/50\n",
            "7/7 [==============================] - ETA: 0s - loss: 0.0386 - accuracy: 0.9900\n",
            "Epoch 8: val_loss improved from 0.03432 to 0.02824, saving model to /content/drive/MyDrive/MLOps Class/Model/model_vgg3.hdf5\n",
            "7/7 [==============================] - 1s 151ms/step - loss: 0.0386 - accuracy: 0.9900 - val_loss: 0.0282 - val_accuracy: 1.0000\n",
            "Epoch 9/50\n",
            "7/7 [==============================] - ETA: 0s - loss: 0.0248 - accuracy: 0.9900\n",
            "Epoch 9: val_loss improved from 0.02824 to 0.02190, saving model to /content/drive/MyDrive/MLOps Class/Model/model_vgg3.hdf5\n",
            "7/7 [==============================] - 5s 791ms/step - loss: 0.0248 - accuracy: 0.9900 - val_loss: 0.0219 - val_accuracy: 1.0000\n",
            "Epoch 10/50\n",
            "6/7 [========================>.....] - ETA: 0s - loss: 0.0303 - accuracy: 0.9896\n",
            "Epoch 10: val_loss did not improve from 0.02190\n",
            "7/7 [==============================] - 0s 65ms/step - loss: 0.0293 - accuracy: 0.9900 - val_loss: 0.0311 - val_accuracy: 1.0000\n",
            "Epoch 11/50\n",
            "6/7 [========================>.....] - ETA: 0s - loss: 0.0255 - accuracy: 0.9844\n",
            "Epoch 11: val_loss improved from 0.02190 to 0.02072, saving model to /content/drive/MyDrive/MLOps Class/Model/model_vgg3.hdf5\n",
            "7/7 [==============================] - 1s 159ms/step - loss: 0.0339 - accuracy: 0.9800 - val_loss: 0.0207 - val_accuracy: 1.0000\n",
            "Epoch 12/50\n",
            "7/7 [==============================] - ETA: 0s - loss: 0.0569 - accuracy: 0.9750\n",
            "Epoch 12: val_loss did not improve from 0.02072\n",
            "7/7 [==============================] - 0s 69ms/step - loss: 0.0569 - accuracy: 0.9750 - val_loss: 0.0312 - val_accuracy: 1.0000\n",
            "Epoch 13/50\n",
            "7/7 [==============================] - ETA: 0s - loss: 0.0209 - accuracy: 0.9950\n",
            "Epoch 13: val_loss did not improve from 0.02072\n",
            "7/7 [==============================] - 0s 58ms/step - loss: 0.0209 - accuracy: 0.9950 - val_loss: 0.0348 - val_accuracy: 1.0000\n",
            "Epoch 14/50\n",
            "7/7 [==============================] - ETA: 0s - loss: 0.0157 - accuracy: 1.0000\n",
            "Epoch 14: val_loss did not improve from 0.02072\n",
            "7/7 [==============================] - 0s 62ms/step - loss: 0.0157 - accuracy: 1.0000 - val_loss: 0.0302 - val_accuracy: 1.0000\n"
          ]
        }
      ]
    },
    {
      "cell_type": "code",
      "source": [
        "def model_performance(figsize,model_name,history1,label1,history2,label2,title,xlabel,ylabel,epoch):\n",
        "    plt.figure(figsize=(figsize))\n",
        "    plt.plot(model_name.history[history1], label=label1)\n",
        "    plt.plot(model_name.history[history2], label=label2)\n",
        "    plt.title(title)\n",
        "    plt.xlabel(xlabel)\n",
        "    plt.ylabel(ylabel)\n",
        "    plt.xticks(range(0,epoch,2),range(1,(epoch+1),2))\n",
        "    plt.grid(linestyle='--',linewidth=0.4)\n",
        "    plt.legend()\n",
        "    plt.show()\n",
        "    return"
      ],
      "metadata": {
        "id": "euMHXgJIicot"
      },
      "execution_count": 82,
      "outputs": []
    },
    {
      "cell_type": "code",
      "source": [
        "#Plotting Training and Validation loss:\n",
        "model_performance(figsize=(5,5),model_name=history2,history1='loss',label1='Training Loss',history2='val_loss',\n",
        "                  label2='Validation Loss',title='Plot Showing Both Training and Validation Loss',\n",
        "                  xlabel='Epoch Number',ylabel='Loss',epoch=15)\n",
        "\n",
        "#Plotting Training and Validation Accuracies:\n",
        "model_performance(figsize=(5,5),model_name=history2,history1='accuracy',label1='Training Accuracy',\n",
        "                  history2='val_accuracy',label2='Validation Accuracy',\n",
        "                  title='Plot Showing Both Training and Validation Accuracy',xlabel='Epoch Number',\n",
        "                  ylabel='Accuracy',epoch=15)"
      ],
      "metadata": {
        "colab": {
          "base_uri": "https://localhost:8080/",
          "height": 957
        },
        "id": "gZB3mwnekPJA",
        "outputId": "6c635849-d9fd-487f-93ad-781d5143740c"
      },
      "execution_count": 83,
      "outputs": [
        {
          "output_type": "display_data",
          "data": {
            "text/plain": [
              "<Figure size 500x500 with 1 Axes>"
            ],
            "image/png": "[encoded data removed]"
          },
          "metadata": {}
        },
        {
          "output_type": "display_data",
          "data": {
            "text/plain": [
              "<Figure size 500x500 with 1 Axes>"
            ],
            "image/png": "[encoded data removed]"
          },
          "metadata": {}
        }
      ]
    },
    {
      "cell_type": "code",
      "source": [
        "def building_model(model,test_data):\n",
        "    #model.fit(Xtrain_data,Ytrain_data)\n",
        "    y_pred_ = model.predict(test_data)\n",
        "    y_pred = np.argmax(y_pred_, axis=1)\n",
        "    return y_pred\n",
        "\n",
        "\n",
        "def classification_confusion_matrix(fig,yTest,yTrain,yPrediction_train, yPrediction_test,display_labels):\n",
        "    print('Classification Report for Training:')\n",
        "    print(classification_report(yTrain, yPrediction_train))\n",
        "    print('='*80)\n",
        "    print('Classification Report for Testing:')\n",
        "    print(classification_report(yTest, yPrediction_test))\n",
        "    print('='*80)\n",
        "    fig, ax = plt.subplots(1,2,figsize=fig)\n",
        "    ConfusionMatrixDisplay.from_predictions(yTrain,yPrediction_train, display_labels=display_labels,ax=ax[0])\n",
        "    ConfusionMatrixDisplay.from_predictions(yTest,yPrediction_test, display_labels=display_labels,ax=ax[1])\n",
        "    ax[0].title.set_text('Training')\n",
        "    ax[1].title.set_text('Testing')\n",
        "    plt.show()\n",
        "    return"
      ],
      "metadata": {
        "id": "sPFYhNNIk-Q4"
      },
      "execution_count": 84,
      "outputs": []
    },
    {
      "cell_type": "code",
      "source": [
        "# Defining class label names:\n",
        "class_list = []\n",
        "for class_ in list(train_generator.class_indices.keys()):\n",
        "    if class_ == 'Brain Tumor':\n",
        "        class_list.append('Tumor')\n",
        "    else:\n",
        "        class_list.append('No Tumor')\n",
        "class_list"
      ],
      "metadata": {
        "id": "i5NBvy8fldW3"
      },
      "execution_count": null,
      "outputs": []
    },
    {
      "cell_type": "code",
      "source": [
        "# Model performance Evaluation:\n",
        "model_saved = load_model('/content/drive/MyDrive/MLOps Class/Model/model_vgg3.hdf5')\n",
        "\n",
        "#Training Prediction:\n",
        "prediction_train = building_model(model=model_saved,test_data=X_train)\n",
        "\n",
        "#Testing Prediction:\n",
        "prediction_test = building_model(model=model_saved,test_data=X_test)\n",
        "\n",
        "#Confusion Matrix for both Training and Testing:\n",
        "classification_confusion_matrix(fig=(15,6),yTest=y_test,yTrain=y_train,yPrediction_train=prediction_train,\n",
        "                                yPrediction_test=prediction_test,display_labels=['Covid', 'Pneumonia', 'Normal'])"
      ],
      "metadata": {
        "colab": {
          "base_uri": "https://localhost:8080/",
          "height": 976
        },
        "id": "1wN4ER6WkZ4w",
        "outputId": "5d004ec5-4dda-4e94-fef6-ff0a1e5e1cbc"
      },
      "execution_count": 89,
      "outputs": [
        {
          "output_type": "stream",
          "name": "stdout",
          "text": [
            "7/7 [==============================] - 1s 49ms/step\n",
            "2/2 [==============================] - 0s 40ms/step\n",
            "Classification Report for Training:\n",
            "              precision    recall  f1-score   support\n",
            "\n",
            "           0       1.00      1.00      1.00        88\n",
            "           1       1.00      1.00      1.00        56\n",
            "           2       1.00      1.00      1.00        56\n",
            "\n",
            "    accuracy                           1.00       200\n",
            "   macro avg       1.00      1.00      1.00       200\n",
            "weighted avg       1.00      1.00      1.00       200\n",
            "\n",
            "================================================================================\n",
            "Classification Report for Testing:\n",
            "              precision    recall  f1-score   support\n",
            "\n",
            "           0       1.00      1.00      1.00        23\n",
            "           1       1.00      1.00      1.00        14\n",
            "           2       1.00      1.00      1.00        14\n",
            "\n",
            "    accuracy                           1.00        51\n",
            "   macro avg       1.00      1.00      1.00        51\n",
            "weighted avg       1.00      1.00      1.00        51\n",
            "\n",
            "================================================================================\n"
          ]
        },
        {
          "output_type": "display_data",
          "data": {
            "text/plain": [
              "<Figure size 1500x600 with 4 Axes>"
            ],
            "image/png": "[encoded data removed]"
          },
          "metadata": {}
        }
      ]
    },
    {
      "cell_type": "code",
      "source": [],
      "metadata": {
        "id": "61UlcWzklssb"
      },
      "execution_count": null,
      "outputs": []
    }
  ]
}